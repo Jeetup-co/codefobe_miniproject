{
  "nbformat": 4,
  "nbformat_minor": 0,
  "metadata": {
    "colab": {
      "provenance": [],
      "authorship_tag": "ABX9TyPjaKWpEKdW/oKvcAgF3vOd",
      "include_colab_link": true
    },
    "kernelspec": {
      "name": "python3",
      "display_name": "Python 3"
    },
    "language_info": {
      "name": "python"
    }
  },
  "cells": [
    {
      "cell_type": "markdown",
      "metadata": {
        "id": "view-in-github",
        "colab_type": "text"
      },
      "source": [
        "<a href=\"https://colab.research.google.com/github/Jeetup-co/codefobe_miniproject/blob/main/Math_Challenge_Game.ipynb\" target=\"_parent\"><img src=\"https://colab.research.google.com/assets/colab-badge.svg\" alt=\"Open In Colab\"/></a>"
      ]
    },
    {
      "cell_type": "markdown",
      "metadata": {
        "id": "6r2636aSZPzc"
      },
      "source": [
        "\n",
        "# **Math Challenge Game**\n",
        "\n",
        "Create an interactive Python program where the user solves three  mathematical puzzles. This Math Challenge Game is a Python program designed to demonstrate the power and efficiency of NumPy for handling large datasets and performing mathematical operations. The game consists of three  mathematical puzzles that involve working with large arrays of random numbers to perform specific tasks: summation, subtraction, and multiplication.\n",
        "\n",
        "\n",
        "\n"
      ]
    },
    {
      "cell_type": "code",
      "execution_count": 14,
      "metadata": {
        "colab": {
          "base_uri": "https://localhost:8080/"
        },
        "id": "iVNRSSlG6i5b",
        "outputId": "c2f71833-1bf9-4eef-f51d-6c35f3212c9e"
      },
      "outputs": [
        {
          "output_type": "stream",
          "name": "stdout",
          "text": [
            "\n",
            "Math Challenge Game: Performance Test Using Numpy\n",
            "\n",
            "Puzzle 1: Sum of a large array\n",
            "Result: 500387.70\n",
            "Time taken: 0.00089 seconds\n",
            "\n",
            "Puzzle 2: Subtraction of two large arrays\n",
            "Sample subtraction result (first 5 elements): [-0.01439252  0.58127775  0.44334645 -0.62096736  0.16273187]\n",
            "Time taken: 0.00128 seconds\n",
            "\n",
            "Puzzle 3: Element-wise multiplication of two large arrays\n",
            "Sample multiplication result (first 5 elements): [0.57348169 0.01579666 0.65551863 0.17119517 0.01801831]\n",
            "Time taken: 0.00052 seconds\n",
            "\n",
            "Timings Summary:\n",
            "sum: 0.00089 seconds\n",
            "subtract: 0.00128 seconds\n",
            "multiply: 0.00052 seconds\n",
            "\n",
            "Thank you for playing the Math Challenge Game using Numpy!\n"
          ]
        }
      ],
      "source": [
        "import numpy as np\n",
        "import time\n",
        "np.random.seed(0)\n",
        "\n",
        "print(\"\\nMath Challenge Game: Performance Test Using Numpy\")\n",
        "\n",
        "# Puzzle 1: Sum of a large array\n",
        "print(\"\\nPuzzle 1: Sum of a large array\")\n",
        "large_array = np.random.rand(1000000)   # Generate 1,000,000 random numbers\n",
        "start_time = time.time()\n",
        "sum_result = np.sum(large_array)    # Sum all elements in the array\n",
        "end_time = time.time()\n",
        "print(f\"Result: {sum_result:.2f}\")\n",
        "print(f\"Time taken: {end_time - start_time:.5f} seconds\")\n",
        "time_for_sum = end_time - start_time\n",
        "\n",
        "\n",
        "# Puzzle 2: Subtraction of two large arrays\n",
        "print(\"\\nPuzzle 2: Subtraction of two large arrays\")\n",
        "array1 = np.random.rand(500000)       # Generate 500,000 random numbers\n",
        "array2 = np.random.rand(500000)       # Generate another 500,000 random numbers\n",
        "start_time = time.time()\n",
        "subtraction_result = array1 - array2  # Subtract the arrays element-wise\n",
        "end_time = time.time()\n",
        "print(f\"Sample subtraction result (first 5 elements): {subtraction_result[:5]}\")\n",
        "print(f\"Time taken: {end_time - start_time:.5f} seconds\")\n",
        "time_for_subtract = end_time - start_time\n",
        "\n",
        "\n",
        "# Puzzle 3: Element-wise multiplication of two large arrays\n",
        "print(\"\\nPuzzle 3: Element-wise multiplication of two large arrays\")\n",
        "array3 = np.random.rand(200000)      # Generate 200,000 random numbers\n",
        "array4 = np.random.rand(200000)      # Generate another 200,000 random numbers\n",
        "start_time = time.time()\n",
        "multiplication_result = array3 * array4  # Multiplication the arrays element-wise\n",
        "end_time = time.time()\n",
        "print(f\"Sample multiplication result (first 5 elements): {multiplication_result[:5]}\")\n",
        "print(f\"Time taken: {end_time - start_time:.5f} seconds\")\n",
        "time_for_multiply = end_time - start_time\n",
        "\n",
        "timings = {}\n",
        "timings['sum'] = time_for_sum\n",
        "timings['subtract'] = time_for_subtract\n",
        "timings['multiply'] = time_for_multiply\n",
        "\n",
        "\n",
        "print(\"\\nTimings Summary:\")\n",
        "for operation, time_taken in timings.items():\n",
        "    print(f\"{operation}: {time_taken:.5f} seconds\")\n",
        "\n",
        "\n",
        "print(\"\\nThank you for playing the Math Challenge Game using Numpy!\")\n",
        "\n"
      ]
    },
    {
      "cell_type": "code",
      "source": [],
      "metadata": {
        "id": "oEvSwsKbEv8e"
      },
      "execution_count": null,
      "outputs": []
    }
  ]
}